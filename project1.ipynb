{
 "cells": [
  {
   "cell_type": "code",
   "execution_count": 1,
   "id": "8487d2c6",
   "metadata": {},
   "outputs": [],
   "source": [
    "# Create game library\n",
    "\n",
    "s = ['1','2','3','4','5','6','7','8','9']"
   ]
  },
  {
   "cell_type": "code",
   "execution_count": 2,
   "id": "f055c978",
   "metadata": {},
   "outputs": [],
   "source": [
    "# Set up game display\n",
    "\n",
    "def display_game(s):\n",
    "    print(f' {s[0]} | {s[1]} | {s[2]} ')\n",
    "    print('---|---|---')\n",
    "    print(f' {s[3]} | {s[4]} | {s[5]} ')\n",
    "    print('---|---|---')\n",
    "    print(f' {s[6]} | {s[7]} | {s[8]} ')"
   ]
  },
  {
   "cell_type": "code",
   "execution_count": 3,
   "id": "af33da5d",
   "metadata": {},
   "outputs": [],
   "source": [
    "# Choose whether to play with a computer or a player\n",
    "\n",
    "# def setup_players():\n",
    "    # choice = ''\n",
    "    \n",
    "    # while choice not in ['1','2']:\n",
    "        # choice = input(\"How many players (1 or 2)\")\n",
    "        \n",
    "        # if choice not in ['1','2']:\n",
    "            # print(\"Please enter either '1' or '2'\")\n",
    "            \n",
    "    # return choice\n",
    "\n",
    "# add game modes for pvp and pvc"
   ]
  },
  {
   "cell_type": "code",
   "execution_count": 4,
   "id": "9b5b0935",
   "metadata": {},
   "outputs": [],
   "source": [
    "# choose whether to play 'X' or 'O'\n",
    "\n",
    "def setup_shape():\n",
    "    choice = ''\n",
    "    choice = choice.upper()\n",
    "    \n",
    "    while choice not in ['X', 'O']:\n",
    "        choice = input(\"Player 1: Do you want to be X or O? \")\n",
    "        choice = choice.upper()\n",
    "        \n",
    "        if choice not in ['X', 'O']:\n",
    "            print(\"Please choose either X or O\")\n",
    "    \n",
    "    player1_letter = choice\n",
    "    \n",
    "    if choice == 'X':\n",
    "        player2_letter = 'O'\n",
    "    elif choice == 'O':\n",
    "        player2_letter = 'X'\n",
    "    \n",
    "    return player1_letter,player2_letter"
   ]
  },
  {
   "cell_type": "code",
   "execution_count": 5,
   "id": "a44fde25",
   "metadata": {},
   "outputs": [],
   "source": [
    "# player 1's turn\n",
    "\n",
    "def player1_turn(sq,letter):\n",
    "    choice = ''\n",
    "    \n",
    "    while choice.isdigit() == False:\n",
    "        choice = input(\"Choose a square, player 1: \")\n",
    "        \n",
    "        if choice.isdigit() == False:\n",
    "            print(\"Invalid choice\")\n",
    "            \n",
    "        elif int(choice) not in range(1,10):\n",
    "            print(\"Please choose a number between 1 and 9\")\n",
    "            choice = input(\"Choose a square, player 1: \")\n",
    "            \n",
    "        else:\n",
    "            choice_int = int(choice)\n",
    "            if sq[choice_int-1] == 'X' or sq[choice_int-1] == 'O':\n",
    "                print(\"This square has already been chosen\")\n",
    "                choice = input(\"Choose another square, player 1: \")\n",
    "            else:\n",
    "                sq[choice_int-1] = letter\n",
    "    display_game(sq)"
   ]
  },
  {
   "cell_type": "code",
   "execution_count": 6,
   "id": "6aeef8ef",
   "metadata": {},
   "outputs": [],
   "source": [
    "# player 2's turn\n",
    "\n",
    "def player2_turn(sq,letter):\n",
    "    choice = ''\n",
    "    \n",
    "    while choice.isdigit() == False:\n",
    "        choice = input(\"Choose a square, player 2: \")\n",
    "        \n",
    "        if choice.isdigit() == False:\n",
    "            print(\"Invalid choice\")\n",
    "            \n",
    "        elif int(choice) not in range(1,10):\n",
    "            print(\"Please choose a number between 1 and 9\")\n",
    "            choice = input(\"Choose a square, player 2: \")\n",
    "            \n",
    "        else:\n",
    "            choice_int = int(choice)\n",
    "            if sq[choice_int-1] == 'X' or sq[choice_int-1] == 'O':\n",
    "                print(\"This square has already been chosen\")\n",
    "                choice = input(\"Choose another square, player 2: \")\n",
    "            else:\n",
    "                sq[choice_int-1] = letter\n",
    "    display_game(sq)"
   ]
  },
  {
   "cell_type": "code",
   "execution_count": 60,
   "id": "8aae3526",
   "metadata": {},
   "outputs": [],
   "source": [
    "# Check if a player has won\n",
    "\n",
    "def win_check(sq,letter1,letter2):\n",
    "#for n in sq:\n",
    "    if ((sq[0],sq[1],sq[2]) == letter1) or ((sq[3],sq[4],sq[5]) == letter1) or ((sq[6],sq[7],sq[8]) == letter1):\n",
    "        print(\"Player 1 Wins!\")\n",
    "    elif ((sq[0],sq[3],sq[6]) == letter1) or ((sq[1],sq[4],sq[7]) == letter1) or ((sq[2],sq[5],sq[8]) == letter1):\n",
    "        print(\"Player 1 Wins!\")\n",
    "    elif ((sq[0],sq[4],sq[8]) == letter1) or ((sq[2],sq[4],sq[7]) == letter1):\n",
    "        print(\"Player 1 Wins!\")\n",
    "    elif ((sq[0],sq[1],sq[2]) == letter2) or ((sq[3],sq[4],sq[5]) == letter2) or ((sq[6],sq[7],sq[8]) == letter2):\n",
    "        print(\"Player 2 Wins!\")\n",
    "    elif ((sq[0],sq[3],sq[6]) == letter2) or ((sq[1],sq[4],sq[7]) == letter2) or ((sq[2],sq[5],sq[8]) == letter2):\n",
    "        print(\"Player 2 Wins!\")\n",
    "    elif ((sq[0],sq[4],sq[8]) == letter2) or ((sq[2],sq[4],sq[7]) == letter2):\n",
    "        print(\"Player 2 Wins!\")\n",
    "    else:\n",
    "        pass"
   ]
  },
  {
   "cell_type": "code",
   "execution_count": 136,
   "id": "63598e0b",
   "metadata": {},
   "outputs": [],
   "source": [
    "#run through game turns\n",
    "\n",
    "def gameplay(sq):\n",
    "    game_on = True\n",
    "    player1_letter,player2_letter = setup_shape()\n",
    "    gameset = ['1','2','3','4','5','6','7','8','9']\n",
    "    endset = {'X','O'}\n",
    "    sqset = {}\n",
    "    \n",
    "    \n",
    "    while game_on:\n",
    "        \n",
    "        player1_turn(sq,player1_letter)\n",
    "        win_check(sq,player1_letter,player2_letter)\n",
    "        sqset=set(sq)\n",
    "        \n",
    "        for n in sq:\n",
    "            \n",
    "            if n == 'X' or n == 'O':\n",
    "                continue\n",
    "                \n",
    "            else:\n",
    "                player2_turn(sq,player2_letter)\n",
    "                win_check(sq,player1_letter,player2_letter)\n",
    "                sqset=set(sq)\n",
    "                break\n",
    "        \n",
    "        if sqset == endset:\n",
    "            game_on = False\n",
    "            print(\"Game Over\")"
   ]
  },
  {
   "cell_type": "code",
   "execution_count": 137,
   "id": "e2daa09b",
   "metadata": {},
   "outputs": [],
   "source": [
    "def play_game():\n",
    "    s = ['1','2','3','4','5','6','7','8','9']\n",
    "    display_game(s)\n",
    "    gameplay(s)"
   ]
  },
  {
   "cell_type": "code",
   "execution_count": 135,
   "id": "656b8838",
   "metadata": {
    "scrolled": false
   },
   "outputs": [
    {
     "name": "stdout",
     "output_type": "stream",
     "text": [
      " 1 | 2 | 3 \n",
      "---|---|---\n",
      " 4 | 5 | 6 \n",
      "---|---|---\n",
      " 7 | 8 | 9 \n",
      "Player 1: Do you want to be X or O? X\n",
      "Choose a square, player 1: 1\n",
      " X | 2 | 3 \n",
      "---|---|---\n",
      " 4 | 5 | 6 \n",
      "---|---|---\n",
      " 7 | 8 | 9 \n",
      "Choose a square, player 2: 2\n",
      " X | O | 3 \n",
      "---|---|---\n",
      " 4 | 5 | 6 \n",
      "---|---|---\n",
      " 7 | 8 | 9 \n",
      "Choose a square, player 1: 3\n",
      " X | O | X \n",
      "---|---|---\n",
      " 4 | 5 | 6 \n",
      "---|---|---\n",
      " 7 | 8 | 9 \n",
      "Choose a square, player 2: 4\n",
      " X | O | X \n",
      "---|---|---\n",
      " O | 5 | 6 \n",
      "---|---|---\n",
      " 7 | 8 | 9 \n",
      "Choose a square, player 1: 5\n",
      " X | O | X \n",
      "---|---|---\n",
      " O | X | 6 \n",
      "---|---|---\n",
      " 7 | 8 | 9 \n",
      "Choose a square, player 2: 6\n",
      " X | O | X \n",
      "---|---|---\n",
      " O | X | O \n",
      "---|---|---\n",
      " 7 | 8 | 9 \n",
      "Choose a square, player 1: 7\n",
      " X | O | X \n",
      "---|---|---\n",
      " O | X | O \n",
      "---|---|---\n",
      " X | 8 | 9 \n",
      "Choose a square, player 2: 8\n",
      " X | O | X \n",
      "---|---|---\n",
      " O | X | O \n",
      "---|---|---\n",
      " X | O | 9 \n",
      "Choose a square, player 1: 9\n",
      " X | O | X \n",
      "---|---|---\n",
      " O | X | O \n",
      "---|---|---\n",
      " X | O | X \n"
     ]
    },
    {
     "ename": "KeyboardInterrupt",
     "evalue": "Interrupted by user",
     "output_type": "error",
     "traceback": [
      "\u001b[1;31m---------------------------------------------------------------------------\u001b[0m",
      "\u001b[1;31mKeyboardInterrupt\u001b[0m                         Traceback (most recent call last)",
      "\u001b[1;32m<ipython-input-135-51076e9b4cab>\u001b[0m in \u001b[0;36m<module>\u001b[1;34m\u001b[0m\n\u001b[1;32m----> 1\u001b[1;33m \u001b[0mplay_game\u001b[0m\u001b[1;33m(\u001b[0m\u001b[1;33m)\u001b[0m\u001b[1;33m\u001b[0m\u001b[1;33m\u001b[0m\u001b[0m\n\u001b[0m",
      "\u001b[1;32m<ipython-input-134-59b284c10120>\u001b[0m in \u001b[0;36mplay_game\u001b[1;34m()\u001b[0m\n\u001b[0;32m      2\u001b[0m     \u001b[0ms\u001b[0m \u001b[1;33m=\u001b[0m \u001b[1;33m[\u001b[0m\u001b[1;34m'1'\u001b[0m\u001b[1;33m,\u001b[0m\u001b[1;34m'2'\u001b[0m\u001b[1;33m,\u001b[0m\u001b[1;34m'3'\u001b[0m\u001b[1;33m,\u001b[0m\u001b[1;34m'4'\u001b[0m\u001b[1;33m,\u001b[0m\u001b[1;34m'5'\u001b[0m\u001b[1;33m,\u001b[0m\u001b[1;34m'6'\u001b[0m\u001b[1;33m,\u001b[0m\u001b[1;34m'7'\u001b[0m\u001b[1;33m,\u001b[0m\u001b[1;34m'8'\u001b[0m\u001b[1;33m,\u001b[0m\u001b[1;34m'9'\u001b[0m\u001b[1;33m]\u001b[0m\u001b[1;33m\u001b[0m\u001b[1;33m\u001b[0m\u001b[0m\n\u001b[0;32m      3\u001b[0m     \u001b[0mdisplay_game\u001b[0m\u001b[1;33m(\u001b[0m\u001b[0ms\u001b[0m\u001b[1;33m)\u001b[0m\u001b[1;33m\u001b[0m\u001b[1;33m\u001b[0m\u001b[0m\n\u001b[1;32m----> 4\u001b[1;33m     \u001b[0mgameplay\u001b[0m\u001b[1;33m(\u001b[0m\u001b[0ms\u001b[0m\u001b[1;33m)\u001b[0m\u001b[1;33m\u001b[0m\u001b[1;33m\u001b[0m\u001b[0m\n\u001b[0m",
      "\u001b[1;32m<ipython-input-133-d58e200e804d>\u001b[0m in \u001b[0;36mgameplay\u001b[1;34m(sq)\u001b[0m\n\u001b[0;32m     16\u001b[0m         \u001b[0msqset\u001b[0m\u001b[1;33m=\u001b[0m\u001b[0mset\u001b[0m\u001b[1;33m(\u001b[0m\u001b[0msq\u001b[0m\u001b[1;33m)\u001b[0m\u001b[1;33m\u001b[0m\u001b[1;33m\u001b[0m\u001b[0m\n\u001b[0;32m     17\u001b[0m \u001b[1;33m\u001b[0m\u001b[0m\n\u001b[1;32m---> 18\u001b[1;33m         \u001b[0mplayer2_turn\u001b[0m\u001b[1;33m(\u001b[0m\u001b[0msq\u001b[0m\u001b[1;33m,\u001b[0m\u001b[0mplayer2_letter\u001b[0m\u001b[1;33m)\u001b[0m\u001b[1;33m\u001b[0m\u001b[1;33m\u001b[0m\u001b[0m\n\u001b[0m\u001b[0;32m     19\u001b[0m         \u001b[0mwin_check\u001b[0m\u001b[1;33m(\u001b[0m\u001b[0msq\u001b[0m\u001b[1;33m,\u001b[0m\u001b[0mplayer1_letter\u001b[0m\u001b[1;33m,\u001b[0m\u001b[0mplayer2_letter\u001b[0m\u001b[1;33m)\u001b[0m\u001b[1;33m\u001b[0m\u001b[1;33m\u001b[0m\u001b[0m\n\u001b[0;32m     20\u001b[0m         \u001b[0msqset\u001b[0m\u001b[1;33m=\u001b[0m\u001b[0mset\u001b[0m\u001b[1;33m(\u001b[0m\u001b[0msq\u001b[0m\u001b[1;33m)\u001b[0m\u001b[1;33m\u001b[0m\u001b[1;33m\u001b[0m\u001b[0m\n",
      "\u001b[1;32m<ipython-input-6-116a7096ab5e>\u001b[0m in \u001b[0;36mplayer2_turn\u001b[1;34m(sq, letter)\u001b[0m\n\u001b[0;32m      5\u001b[0m \u001b[1;33m\u001b[0m\u001b[0m\n\u001b[0;32m      6\u001b[0m     \u001b[1;32mwhile\u001b[0m \u001b[0mchoice\u001b[0m\u001b[1;33m.\u001b[0m\u001b[0misdigit\u001b[0m\u001b[1;33m(\u001b[0m\u001b[1;33m)\u001b[0m \u001b[1;33m==\u001b[0m \u001b[1;32mFalse\u001b[0m\u001b[1;33m:\u001b[0m\u001b[1;33m\u001b[0m\u001b[1;33m\u001b[0m\u001b[0m\n\u001b[1;32m----> 7\u001b[1;33m         \u001b[0mchoice\u001b[0m \u001b[1;33m=\u001b[0m \u001b[0minput\u001b[0m\u001b[1;33m(\u001b[0m\u001b[1;34m\"Choose a square, player 2: \"\u001b[0m\u001b[1;33m)\u001b[0m\u001b[1;33m\u001b[0m\u001b[1;33m\u001b[0m\u001b[0m\n\u001b[0m\u001b[0;32m      8\u001b[0m \u001b[1;33m\u001b[0m\u001b[0m\n\u001b[0;32m      9\u001b[0m         \u001b[1;32mif\u001b[0m \u001b[0mchoice\u001b[0m\u001b[1;33m.\u001b[0m\u001b[0misdigit\u001b[0m\u001b[1;33m(\u001b[0m\u001b[1;33m)\u001b[0m \u001b[1;33m==\u001b[0m \u001b[1;32mFalse\u001b[0m\u001b[1;33m:\u001b[0m\u001b[1;33m\u001b[0m\u001b[1;33m\u001b[0m\u001b[0m\n",
      "\u001b[1;32m~\\anaconda3\\lib\\site-packages\\ipykernel\\kernelbase.py\u001b[0m in \u001b[0;36mraw_input\u001b[1;34m(self, prompt)\u001b[0m\n\u001b[0;32m    858\u001b[0m                 \u001b[1;34m\"raw_input was called, but this frontend does not support input requests.\"\u001b[0m\u001b[1;33m\u001b[0m\u001b[1;33m\u001b[0m\u001b[0m\n\u001b[0;32m    859\u001b[0m             )\n\u001b[1;32m--> 860\u001b[1;33m         return self._input_request(str(prompt),\n\u001b[0m\u001b[0;32m    861\u001b[0m             \u001b[0mself\u001b[0m\u001b[1;33m.\u001b[0m\u001b[0m_parent_ident\u001b[0m\u001b[1;33m,\u001b[0m\u001b[1;33m\u001b[0m\u001b[1;33m\u001b[0m\u001b[0m\n\u001b[0;32m    862\u001b[0m             \u001b[0mself\u001b[0m\u001b[1;33m.\u001b[0m\u001b[0m_parent_header\u001b[0m\u001b[1;33m,\u001b[0m\u001b[1;33m\u001b[0m\u001b[1;33m\u001b[0m\u001b[0m\n",
      "\u001b[1;32m~\\anaconda3\\lib\\site-packages\\ipykernel\\kernelbase.py\u001b[0m in \u001b[0;36m_input_request\u001b[1;34m(self, prompt, ident, parent, password)\u001b[0m\n\u001b[0;32m    902\u001b[0m             \u001b[1;32mexcept\u001b[0m \u001b[0mKeyboardInterrupt\u001b[0m\u001b[1;33m:\u001b[0m\u001b[1;33m\u001b[0m\u001b[1;33m\u001b[0m\u001b[0m\n\u001b[0;32m    903\u001b[0m                 \u001b[1;31m# re-raise KeyboardInterrupt, to truncate traceback\u001b[0m\u001b[1;33m\u001b[0m\u001b[1;33m\u001b[0m\u001b[1;33m\u001b[0m\u001b[0m\n\u001b[1;32m--> 904\u001b[1;33m                 \u001b[1;32mraise\u001b[0m \u001b[0mKeyboardInterrupt\u001b[0m\u001b[1;33m(\u001b[0m\u001b[1;34m\"Interrupted by user\"\u001b[0m\u001b[1;33m)\u001b[0m \u001b[1;32mfrom\u001b[0m \u001b[1;32mNone\u001b[0m\u001b[1;33m\u001b[0m\u001b[1;33m\u001b[0m\u001b[0m\n\u001b[0m\u001b[0;32m    905\u001b[0m             \u001b[1;32mexcept\u001b[0m \u001b[0mException\u001b[0m \u001b[1;32mas\u001b[0m \u001b[0me\u001b[0m\u001b[1;33m:\u001b[0m\u001b[1;33m\u001b[0m\u001b[1;33m\u001b[0m\u001b[0m\n\u001b[0;32m    906\u001b[0m                 \u001b[0mself\u001b[0m\u001b[1;33m.\u001b[0m\u001b[0mlog\u001b[0m\u001b[1;33m.\u001b[0m\u001b[0mwarning\u001b[0m\u001b[1;33m(\u001b[0m\u001b[1;34m\"Invalid Message:\"\u001b[0m\u001b[1;33m,\u001b[0m \u001b[0mexc_info\u001b[0m\u001b[1;33m=\u001b[0m\u001b[1;32mTrue\u001b[0m\u001b[1;33m)\u001b[0m\u001b[1;33m\u001b[0m\u001b[1;33m\u001b[0m\u001b[0m\n",
      "\u001b[1;31mKeyboardInterrupt\u001b[0m: Interrupted by user"
     ]
    }
   ],
   "source": [
    "play_game()"
   ]
  },
  {
   "cell_type": "code",
   "execution_count": 77,
   "id": "f5556e64",
   "metadata": {},
   "outputs": [
    {
     "data": {
      "text/plain": [
       "True"
      ]
     },
     "execution_count": 77,
     "metadata": {},
     "output_type": "execute_result"
    }
   ],
   "source": []
  },
  {
   "cell_type": "code",
   "execution_count": null,
   "id": "6fa1d2a0",
   "metadata": {},
   "outputs": [],
   "source": []
  }
 ],
 "metadata": {
  "kernelspec": {
   "display_name": "Python 3",
   "language": "python",
   "name": "python3"
  },
  "language_info": {
   "codemirror_mode": {
    "name": "ipython",
    "version": 3
   },
   "file_extension": ".py",
   "mimetype": "text/x-python",
   "name": "python",
   "nbconvert_exporter": "python",
   "pygments_lexer": "ipython3",
   "version": "3.8.8"
  }
 },
 "nbformat": 4,
 "nbformat_minor": 5
}
